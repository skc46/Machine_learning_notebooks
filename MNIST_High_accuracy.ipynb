{
  "nbformat": 4,
  "nbformat_minor": 0,
  "metadata": {
    "accelerator": "GPU",
    "colab": {
      "name": "MNIST_High_accuracy.ipynb",
      "provenance": [],
      "toc_visible": true,
      "include_colab_link": true
    },
    "kernelspec": {
      "display_name": "gpukernel",
      "language": "python",
      "name": "tf2"
    },
    "language_info": {
      "codemirror_mode": {
        "name": "ipython",
        "version": 3
      },
      "file_extension": ".py",
      "mimetype": "text/x-python",
      "name": "python",
      "nbconvert_exporter": "python",
      "pygments_lexer": "ipython3",
      "version": "3.7.10"
    },
    "nav_menu": {},
    "toc": {
      "navigate_menu": true,
      "number_sections": true,
      "sideBar": true,
      "threshold": 6,
      "toc_cell": false,
      "toc_section_display": "block",
      "toc_window_display": false
    }
  },
  "cells": [
    {
      "cell_type": "markdown",
      "metadata": {
        "id": "view-in-github",
        "colab_type": "text"
      },
      "source": [
        "<a href=\"https://colab.research.google.com/github/skc46/Machine_learning_notebooks/blob/master/MNIST_High_accuracy.ipynb\" target=\"_parent\"><img src=\"https://colab.research.google.com/assets/colab-badge.svg\" alt=\"Open In Colab\"/></a>"
      ]
    },
    {
      "cell_type": "markdown",
      "metadata": {
        "id": "4HQS1yyRJIrm"
      },
      "source": [
        "<table align=\"left\">\n",
        "  <td>\n",
        "    <a target=\"_blank\" href=\"https://colab.research.google.com/github/UAPH4582/PH482_582/blob/main/06_deep_computer_vision_with_cnns.ipynb\"><img src=\"https://www.tensorflow.org/images/colab_logo_32px.png\" />Run in Google Colab</a>\n",
        "  </td>\n",
        "</table>"
      ]
    },
    {
      "cell_type": "markdown",
      "metadata": {
        "id": "nfLL_Xh145L0"
      },
      "source": [
        "#High Accuracy for MNIST\n",
        "\n",
        "The MNIST dataset is considered as \"Hello World\" of Machine learning. It contains 70,000 images of handwritten digits by high school students and the employees of the US census Bureau. Using this dataset, one can build and test Machine learning or deep learning models to recognize the hand written digits with high accuracy. In fact, many models have already been trained on this dataset and a very high test accuracy, more than 99.5% (only top 10% models have achieved this score in the Kaggle competition so far ), have been achieved. In this work, we want to build a model using convolutional nueral network with the aim of obtaining highest possible accuracy.\n",
        "\n",
        "Our architecture will use following layers and techniques;\n",
        "\n",
        "a) Convolution layers\n",
        "\n",
        "b) Pooling layers\n",
        "\n",
        "c) Batch Normalization\n",
        "\n",
        "d) Dropout\n",
        "\n",
        "e) Learning Schedule\n",
        "\n",
        "f) Image Augmentation\n",
        "\n",
        "g) Ensemble"
      ]
    },
    {
      "cell_type": "markdown",
      "metadata": {
        "id": "sKJns603JIrn"
      },
      "source": [
        "# Setup"
      ]
    },
    {
      "cell_type": "markdown",
      "metadata": {
        "id": "oLcocwMhJIro"
      },
      "source": [
        "First, let's import a few common modules, ensure MatplotLib plots figures inline and prepare a function to save the figures. We also check that Python 3.5 or later is installed (although Python 2.x may work, it is deprecated so we strongly recommend you use Python 3 instead), as well as Scikit-Learn ≥0.20 and TensorFlow ≥2.0."
      ]
    },
    {
      "cell_type": "code",
      "metadata": {
        "id": "f2-PaAy0JIrp"
      },
      "source": [
        "# Python ≥3.5 is required\n",
        "import sys\n",
        "assert sys.version_info >= (3, 5)\n",
        "\n",
        "# Scikit-Learn ≥0.20 is required\n",
        "import sklearn\n",
        "assert sklearn.__version__ >= \"0.20\"\n",
        "\n",
        "try:\n",
        "    # %tensorflow_version only exists in Colab.\n",
        "    %tensorflow_version 2.x\n",
        "    IS_COLAB = True\n",
        "except Exception:\n",
        "    IS_COLAB = False\n",
        "\n",
        "# TensorFlow ≥2.0 is required\n",
        "import tensorflow as tf\n",
        "from tensorflow import keras\n",
        "assert tf.__version__ >= \"2.0\"\n",
        "\n",
        "if not tf.config.list_physical_devices('GPU'):\n",
        "    print(\"No GPU was detected. CNNs can be very slow without a GPU.\")\n",
        "    if IS_COLAB:\n",
        "        print(\"Go to Runtime > Change runtime and select a GPU hardware accelerator.\")\n",
        "\n",
        "# Common imports\n",
        "import numpy as np\n",
        "import os\n",
        "import pandas as pd\n",
        "\n",
        "# to make this notebook's output stable across runs\n",
        "np.random.seed(42)\n",
        "tf.random.set_seed(42)\n",
        "\n",
        "# To plot pretty figures\n",
        "%matplotlib inline\n",
        "import matplotlib as mpl\n",
        "import matplotlib.pyplot as plt\n",
        "mpl.rc('axes', labelsize=14)\n",
        "mpl.rc('xtick', labelsize=12)\n",
        "mpl.rc('ytick', labelsize=12)\n",
        "\n",
        "\n",
        "from tensorflow.keras.preprocessing.image import ImageDataGenerator\n",
        "import random\n",
        "\n",
        "import tensorflow\n",
        "from tensorflow.keras.models import Sequential\n",
        "from tensorflow.keras.layers import Dense, Dropout, Flatten, Conv2D, MaxPool2D, BatchNormalization\n",
        "from tensorflow.keras.optimizers import Adam,Adamax\n",
        "from sklearn.model_selection import GridSearchCV\n",
        "from tensorflow.keras import models, losses, Model, layers\n"
      ],
      "execution_count": 2,
      "outputs": []
    },
    {
      "cell_type": "markdown",
      "metadata": {
        "id": "i8TTQxyH-2o9"
      },
      "source": [
        "# Dataset Preparation"
      ]
    },
    {
      "cell_type": "markdown",
      "metadata": {
        "id": "Z8dfdOr4Cjcg"
      },
      "source": [
        "## Data download"
      ]
    },
    {
      "cell_type": "code",
      "metadata": {
        "colab": {
          "base_uri": "https://localhost:8080/"
        },
        "id": "iuZgmeEFJIsF",
        "outputId": "2b6ca0d9-5f6d-47e5-c4e5-559447d4b890"
      },
      "source": [
        "(X_train_full, y_train_full), (X_test, y_test) = keras.datasets.mnist.load_data()"
      ],
      "execution_count": 3,
      "outputs": [
        {
          "output_type": "stream",
          "text": [
            "Downloading data from https://storage.googleapis.com/tensorflow/tf-keras-datasets/mnist.npz\n",
            "11493376/11490434 [==============================] - 0s 0us/step\n"
          ],
          "name": "stdout"
        }
      ]
    },
    {
      "cell_type": "markdown",
      "metadata": {
        "id": "19S6_KnA_GzS"
      },
      "source": [
        "## Visualizing a few images"
      ]
    },
    {
      "cell_type": "code",
      "metadata": {
        "colab": {
          "base_uri": "https://localhost:8080/",
          "height": 699
        },
        "id": "aVAAZI6h_Kub",
        "outputId": "7c11f90f-547a-43c2-a792-41fd915cd477"
      },
      "source": [
        "plt.figure(figsize=(12,12))\n",
        "index=0\n",
        "for img,lbl in zip(X_train_full[:9,],y_train_full[:9,]):\n",
        "    index +=1\n",
        "    plt.subplot(3,3,index)\n",
        "    plt.imshow(img)\n",
        "    plt.title(\"Class:{}\".format(lbl))\n",
        "    plt.axis(\"off\")\n",
        "plt.show()"
      ],
      "execution_count": 9,
      "outputs": [
        {
          "output_type": "display_data",
          "data": {
            "image/png": "[encoded data removed]",
            "text/plain": [
              "<Figure size 864x864 with 9 Axes>"
            ]
          },
          "metadata": {
            "tags": [],
            "needs_background": "light"
          }
        }
      ]
    },
    {
      "cell_type": "markdown",
      "metadata": {
        "id": "EjQJVkV-Awyi"
      },
      "source": [
        "## Data scaling and image resizing"
      ]
    },
    {
      "cell_type": "code",
      "metadata": {
        "id": "UUR8Ga77AdhU"
      },
      "source": [
        "X_train_full = X_train_full / 255.\n",
        "X_test = X_test / 255.\n",
        "X_train, X_valid = X_train_full[:-5000], X_train_full[-5000:]\n",
        "y_train, y_valid = y_train_full[:-5000], y_train_full[-5000:]\n",
        "\n",
        "X_train = X_train[..., np.newaxis]\n",
        "X_valid = X_valid[..., np.newaxis]\n",
        "X_test = X_test[..., np.newaxis]"
      ],
      "execution_count": 4,
      "outputs": []
    },
    {
      "cell_type": "code",
      "metadata": {
        "colab": {
          "base_uri": "https://localhost:8080/"
        },
        "id": "BFl3TcDDAvY9",
        "outputId": "5f591970-6a94-4b65-dfd8-e157a299fdd4"
      },
      "source": [
        "print(\"Train set shape\", X_train.shape)\n",
        "print(\"Validation set shape\", X_valid.shape)\n",
        "print(\"Test set shape\", X_test.shape)"
      ],
      "execution_count": 5,
      "outputs": [
        {
          "output_type": "stream",
          "text": [
            "Train set shape (55000, 28, 28, 1)\n",
            "Validation set shape (5000, 28, 28, 1)\n",
            "Test set shape (10000, 28, 28, 1)\n"
          ],
          "name": "stdout"
        }
      ]
    },
    {
      "cell_type": "markdown",
      "metadata": {
        "id": "d9njoUTICZdB"
      },
      "source": [
        "# Model building and training\n"
      ]
    },
    {
      "cell_type": "markdown",
      "metadata": {
        "id": "bEBhv2a1C4hI"
      },
      "source": [
        " We first train a simple CNN network and evaluate its performance. Then we will tune the hyperparameters to further improve its performance.\n",
        "\n",
        " **Let's train the model**"
      ]
    },
    {
      "cell_type": "code",
      "metadata": {
        "id": "D3jmCGvbJIsF"
      },
      "source": [
        "keras.backend.clear_session()\n",
        "tf.random.set_seed(42)\n",
        "np.random.seed(42)\n",
        "\n",
        "model = keras.models.Sequential([\n",
        "    keras.layers.Conv2D(32, kernel_size=3, padding=\"same\", activation=\"relu\"),\n",
        "    keras.layers.Conv2D(64, kernel_size=3, padding=\"same\", activation=\"relu\"),\n",
        "    keras.layers.MaxPool2D(),\n",
        "    keras.layers.Flatten(),\n",
        "    keras.layers.Dropout(0.25),\n",
        "    keras.layers.Dense(128, activation=\"relu\"),\n",
        "    keras.layers.Dropout(0.5),\n",
        "    keras.layers.Dense(10, activation=\"softmax\")\n",
        "])\n",
        "model.compile(loss=\"sparse_categorical_crossentropy\", optimizer=\"nadam\",\n",
        "              metrics=[\"accuracy\"])\n",
        "\n",
        "history = model.fit(X_train, y_train, epochs=30, validation_data=(X_valid, y_valid), verbose=0)"
      ],
      "execution_count": 10,
      "outputs": []
    },
    {
      "cell_type": "markdown",
      "metadata": {
        "id": "8H7RzMKsFeBz"
      },
      "source": [
        "Visualizing loss and accuracy with the epochs"
      ]
    },
    {
      "cell_type": "code",
      "metadata": {
        "colab": {
          "base_uri": "https://localhost:8080/",
          "height": 346
        },
        "id": "iXxsclVLDcgy",
        "outputId": "541d9eee-5478-4fcb-9030-39fcc7c7e102"
      },
      "source": [
        "pd.DataFrame(history.history).plot(figsize=(8,5))\n",
        "plt.grid(True)\n",
        "plt.xlabel(\"epochs\")\n",
        "plt.ylabel('loss/accuracy')\n",
        "plt.ylim(0,1)\n",
        "plt.show()"
      ],
      "execution_count": 13,
      "outputs": [
        {
          "output_type": "display_data",
          "data": {
            "image/png": "[encoded data removed]",
            "text/plain": [
              "<Figure size 576x360 with 1 Axes>"
            ]
          },
          "metadata": {
            "tags": [],
            "needs_background": "light"
          }
        }
      ]
    },
    {
      "cell_type": "markdown",
      "metadata": {
        "id": "FjrOlkqxFpky"
      },
      "source": [
        "Evaluation on test set"
      ]
    },
    {
      "cell_type": "code",
      "metadata": {
        "id": "y-7MZa5MJIsF",
        "colab": {
          "base_uri": "https://localhost:8080/"
        },
        "outputId": "f5a4fe62-4f23-412d-a226-5fcd0fe416d7"
      },
      "source": [
        "model.evaluate(X_test, y_test)"
      ],
      "execution_count": 14,
      "outputs": [
        {
          "output_type": "stream",
          "text": [
            "313/313 [==============================] - 1s 2ms/step - loss: 0.0360 - accuracy: 0.9939\n"
          ],
          "name": "stdout"
        },
        {
          "output_type": "execute_result",
          "data": {
            "text/plain": [
              "[0.03600914776325226, 0.9939000010490417]"
            ]
          },
          "metadata": {
            "tags": []
          },
          "execution_count": 14
        }
      ]
    },
    {
      "cell_type": "markdown",
      "metadata": {
        "id": "x3ye0l7GFxK7"
      },
      "source": [
        "So, our model achieves 99.39% accuracy on the test set. Now, we would like to tune hyperparameters to further enchance the performance."
      ]
    },
    {
      "cell_type": "markdown",
      "metadata": {
        "id": "e5ot_A5jGJXD"
      },
      "source": [
        "##Hyperparameter tuning"
      ]
    },
    {
      "cell_type": "markdown",
      "metadata": {
        "id": "Tm2y2yUNGOpf"
      },
      "source": [
        "### Optimizer selection"
      ]
    },
    {
      "cell_type": "code",
      "metadata": {
        "colab": {
          "base_uri": "https://localhost:8080/"
        },
        "id": "5Nwt2BVzF9NI",
        "outputId": "c30187ae-b49f-4693-8e16-bbed8143d719"
      },
      "source": [
        "def model_optimizer(optimizer):\n",
        "  model = Sequential([\n",
        "                    Conv2D(32, kernel_size=3, padding=\"same\", activation=\"relu\",input_shape=X_train.shape[1:]),\n",
        "                    Conv2D(64, kernel_size=3, padding=\"same\", activation=\"relu\"),\n",
        "                    MaxPool2D(),\n",
        "                    Flatten(),\n",
        "                    Dropout(0.25),\n",
        "                    Dense(128, activation=\"relu\"),\n",
        "                    Dropout(0.5),\n",
        "                    Dense(10, activation=\"softmax\")                    \n",
        "                    ])\n",
        "  model.compile(loss=\"sparse_categorical_crossentropy\", optimizer=optimizer,\n",
        "              metrics=[\"accuracy\"])\n",
        "  return model\n",
        "\n",
        "wrapper_optimizer = keras.wrappers.scikit_learn.KerasClassifier(model_optimizer)\n",
        "\n",
        "\n",
        "param_distribs = {\n",
        "             'optimizer':['sgd', 'adagrad', 'rmsprop', 'adam', 'nadam', 'adamax', 'adadelta']\n",
        "                   }\n",
        "\n",
        "optimizer_search_cv = GridSearchCV(wrapper_optimizer, param_distribs, cv=3)\n",
        "\n",
        "grid_result = optimizer_search_cv.fit(X_train, y_train, epochs=30,batch_size=32, verbose=0)\n",
        "\n",
        "# summary results\n",
        "print(\"Best: %f using %s\" %(grid_result.best_score_, grid_result.best_params_))\n",
        "\n",
        "means = grid_result.cv_results_['mean_test_score']\n",
        "stds = grid_result.cv_results_['std_test_score']\n",
        "params = grid_result.cv_results_['params']\n",
        "for mean, stdev, param in zip(means, stds, params):\n",
        "    print(\"%f (%f) with: %r\" %(mean, stdev, param))\n",
        "  "
      ],
      "execution_count": 18,
      "outputs": [
        {
          "output_type": "stream",
          "text": [
            "573/573 [==============================] - 1s 2ms/step - loss: 0.0460 - accuracy: 0.9870\n",
            "573/573 [==============================] - 1s 2ms/step - loss: 0.0465 - accuracy: 0.9866\n",
            "573/573 [==============================] - 1s 2ms/step - loss: 0.0522 - accuracy: 0.9854\n",
            "573/573 [==============================] - 1s 2ms/step - loss: 0.1147 - accuracy: 0.9663\n",
            "573/573 [==============================] - 1s 2ms/step - loss: 0.1200 - accuracy: 0.9646\n",
            "573/573 [==============================] - 1s 2ms/step - loss: 0.1407 - accuracy: 0.9582\n",
            "573/573 [==============================] - 1s 2ms/step - loss: 0.1423 - accuracy: 0.9795\n",
            "573/573 [==============================] - 1s 2ms/step - loss: 0.1107 - accuracy: 0.9735\n",
            "573/573 [==============================] - 1s 2ms/step - loss: 0.1230 - accuracy: 0.9784\n",
            "573/573 [==============================] - 1s 2ms/step - loss: 0.0565 - accuracy: 0.9895\n",
            "573/573 [==============================] - 1s 2ms/step - loss: 0.0631 - accuracy: 0.9895\n",
            "573/573 [==============================] - 1s 2ms/step - loss: 0.0797 - accuracy: 0.9888\n",
            "573/573 [==============================] - 1s 2ms/step - loss: 0.0542 - accuracy: 0.9903\n",
            "573/573 [==============================] - 1s 2ms/step - loss: 0.0591 - accuracy: 0.9899\n",
            "573/573 [==============================] - 1s 2ms/step - loss: 0.0593 - accuracy: 0.9885\n",
            "573/573 [==============================] - 1s 2ms/step - loss: 0.0467 - accuracy: 0.9904\n",
            "573/573 [==============================] - 2s 2ms/step - loss: 0.0452 - accuracy: 0.9890\n",
            "573/573 [==============================] - 1s 2ms/step - loss: 0.0592 - accuracy: 0.9868\n",
            "573/573 [==============================] - 1s 2ms/step - loss: 0.3380 - accuracy: 0.9035\n",
            "573/573 [==============================] - 1s 2ms/step - loss: 0.3412 - accuracy: 0.9018\n",
            "573/573 [==============================] - 1s 2ms/step - loss: 0.3606 - accuracy: 0.8971\n",
            "Best: 0.989582 using {'optimizer': 'nadam'}\n",
            "0.986327 (0.000692) with: {'optimizer': 'sgd'}\n",
            "0.963036 (0.003519) with: {'optimizer': 'adagrad'}\n",
            "0.977145 (0.002627) with: {'optimizer': 'rmsprop'}\n",
            "0.989273 (0.000322) with: {'optimizer': 'adam'}\n",
            "0.989582 (0.000792) with: {'optimizer': 'nadam'}\n",
            "0.988745 (0.001484) with: {'optimizer': 'adamax'}\n",
            "0.900800 (0.002726) with: {'optimizer': 'adadelta'}\n"
          ],
          "name": "stdout"
        }
      ]
    },
    {
      "cell_type": "markdown",
      "metadata": {
        "id": "5BPSeDcHSmZM"
      },
      "source": [
        "### Activation function tuning"
      ]
    },
    {
      "cell_type": "code",
      "metadata": {
        "colab": {
          "base_uri": "https://localhost:8080/"
        },
        "id": "n0Vujo1LSzwq",
        "outputId": "b2a5adeb-b484-4556-868b-41b5d97646b2"
      },
      "source": [
        "def model_activation(activation='relu'):\n",
        "  model = Sequential([\n",
        "                    Conv2D(32, kernel_size=3, padding=\"same\", activation=activation,input_shape=X_train.shape[1:]),\n",
        "                    Conv2D(64, kernel_size=3, padding=\"same\", activation=activation),\n",
        "                    MaxPool2D(),\n",
        "                    Flatten(),\n",
        "                    Dropout(0.25),\n",
        "                    Dense(128, activation=activation),\n",
        "                    Dropout(0.5),\n",
        "                    Dense(10, activation=\"softmax\")                    \n",
        "                    ])\n",
        "  model.compile(loss=\"sparse_categorical_crossentropy\", optimizer='nadam',\n",
        "              metrics=[\"accuracy\"])\n",
        "  return model\n",
        "\n",
        "wrapper_activation = keras.wrappers.scikit_learn.KerasClassifier(model_activation)\n",
        "\n",
        "\n",
        "param_distribs = {\n",
        "             'activation':['softsign', 'relu', 'tanh', 'sigmoid', 'hard_sigmoid', 'linear','elu','selu']\n",
        "                   }\n",
        "\n",
        "activation_search_cv = GridSearchCV(wrapper_activation, param_distribs, cv=3)\n",
        "\n",
        "grid_result = activation_search_cv.fit(X_train, y_train, epochs=30,batch_size=32, verbose=0)\n",
        "\n",
        "# summary results\n",
        "print(\"Best: %f using %s\" %(grid_result.best_score_, grid_result.best_params_))\n",
        "\n",
        "means = grid_result.cv_results_['mean_test_score']\n",
        "stds = grid_result.cv_results_['std_test_score']\n",
        "params = grid_result.cv_results_['params']\n",
        "for mean, stdev, param in zip(means, stds, params):\n",
        "    print(\"%f (%f) with: %r\" %(mean, stdev, param))\n",
        "  "
      ],
      "execution_count": 19,
      "outputs": [
        {
          "output_type": "stream",
          "text": [
            "573/573 [==============================] - 1s 2ms/step - loss: 0.0586 - accuracy: 0.9839\n",
            "573/573 [==============================] - 1s 2ms/step - loss: 0.0584 - accuracy: 0.9852\n",
            "573/573 [==============================] - 1s 2ms/step - loss: 0.0736 - accuracy: 0.9801\n",
            "573/573 [==============================] - 1s 2ms/step - loss: 0.0622 - accuracy: 0.9911\n",
            "573/573 [==============================] - 1s 2ms/step - loss: 0.0623 - accuracy: 0.9900\n",
            "573/573 [==============================] - 1s 2ms/step - loss: 0.0617 - accuracy: 0.9899\n",
            "573/573 [==============================] - 1s 2ms/step - loss: 0.0647 - accuracy: 0.9812\n",
            "573/573 [==============================] - 1s 2ms/step - loss: 0.0645 - accuracy: 0.9816\n",
            "573/573 [==============================] - 1s 2ms/step - loss: 0.0733 - accuracy: 0.9793\n",
            "573/573 [==============================] - 1s 2ms/step - loss: 0.0504 - accuracy: 0.9889\n",
            "573/573 [==============================] - 1s 2ms/step - loss: 0.0573 - accuracy: 0.9869\n",
            "573/573 [==============================] - 1s 2ms/step - loss: 0.0604 - accuracy: 0.9836\n",
            "573/573 [==============================] - 1s 2ms/step - loss: 2.3075 - accuracy: 0.1054\n",
            "573/573 [==============================] - 1s 2ms/step - loss: 2.3046 - accuracy: 0.1143\n",
            "573/573 [==============================] - 1s 2ms/step - loss: 2.3048 - accuracy: 0.1106\n",
            "573/573 [==============================] - 1s 2ms/step - loss: 0.1354 - accuracy: 0.9747\n",
            "573/573 [==============================] - 1s 2ms/step - loss: 0.1418 - accuracy: 0.9738\n",
            "573/573 [==============================] - 1s 2ms/step - loss: 0.1646 - accuracy: 0.9717\n",
            "573/573 [==============================] - 1s 2ms/step - loss: 0.1243 - accuracy: 0.9829\n",
            "573/573 [==============================] - 1s 2ms/step - loss: 0.0979 - accuracy: 0.9849\n",
            "573/573 [==============================] - 1s 2ms/step - loss: 0.1193 - accuracy: 0.9819\n",
            "573/573 [==============================] - 1s 2ms/step - loss: 0.1191 - accuracy: 0.9816\n",
            "573/573 [==============================] - 1s 2ms/step - loss: 0.1230 - accuracy: 0.9813\n",
            "573/573 [==============================] - 1s 2ms/step - loss: 0.1430 - accuracy: 0.9810\n",
            "Best: 0.990327 using {'activation': 'relu'}\n",
            "0.983073 (0.002132) with: {'activation': 'softsign'}\n",
            "0.990327 (0.000516) with: {'activation': 'relu'}\n",
            "0.980709 (0.000993) with: {'activation': 'tanh'}\n",
            "0.986473 (0.002204) with: {'activation': 'sigmoid'}\n",
            "0.110073 (0.003649) with: {'activation': 'hard_sigmoid'}\n",
            "0.973418 (0.001279) with: {'activation': 'linear'}\n",
            "0.983236 (0.001230) with: {'activation': 'elu'}\n",
            "0.981327 (0.000246) with: {'activation': 'selu'}\n"
          ],
          "name": "stdout"
        }
      ]
    },
    {
      "cell_type": "markdown",
      "metadata": {
        "id": "NS5aaSPDh2r4"
      },
      "source": [
        "### Kernel initializer tuning"
      ]
    },
    {
      "cell_type": "code",
      "metadata": {
        "colab": {
          "base_uri": "https://localhost:8080/"
        },
        "id": "YqhURAFQh7w6",
        "outputId": "0d84deb8-7c37-4928-a277-06cf7f98f354"
      },
      "source": [
        "def model_kernal_wt(weight_initializer='uniform'):\n",
        "  model = Sequential([\n",
        "                    Conv2D(32, kernel_size=3, padding=\"same\", activation='relu', kernel_initializer=weight_initializer, input_shape=X_train.shape[1:]),\n",
        "                    Conv2D(64, kernel_size=3, padding=\"same\", activation='relu', kernel_initializer=weight_initializer),\n",
        "                    MaxPool2D(),\n",
        "                    Flatten(),\n",
        "                    Dropout(0.25),\n",
        "                    Dense(128, activation='relu'),\n",
        "                    Dropout(0.5),\n",
        "                    Dense(10, activation=\"softmax\")                    \n",
        "                    ])\n",
        "  model.compile(loss=\"sparse_categorical_crossentropy\", optimizer='nadam',\n",
        "              metrics=[\"accuracy\"])\n",
        "  return model\n",
        "\n",
        "wrapper_kernel = keras.wrappers.scikit_learn.KerasClassifier(model_kernal_wt)\n",
        "\n",
        "\n",
        "param_distribs = {\n",
        "             'weight_initializer':['uniform', 'lecun_uniform', 'normal', 'zero', 'glorot_normal', 'glorot_uniform', 'he_normal', 'he_uniform']\n",
        "                   }\n",
        "\n",
        "kernel_search_cv = GridSearchCV(wrapper_kernel, param_distribs, cv=3)\n",
        "\n",
        "grid_result = kernel_search_cv.fit(X_train, y_train, epochs=30,batch_size=32, verbose=0)\n",
        "\n",
        "# summary results\n",
        "print(\"Best: %f using %s\" %(grid_result.best_score_, grid_result.best_params_))\n",
        "\n",
        "means = grid_result.cv_results_['mean_test_score']\n",
        "stds = grid_result.cv_results_['std_test_score']\n",
        "params = grid_result.cv_results_['params']\n",
        "for mean, stdev, param in zip(means, stds, params):\n",
        "    print(\"%f (%f) with: %r\" %(mean, stdev, param))"
      ],
      "execution_count": 22,
      "outputs": [
        {
          "output_type": "stream",
          "text": [
            "573/573 [==============================] - 1s 2ms/step - loss: 0.0521 - accuracy: 0.9906\n",
            "573/573 [==============================] - 1s 2ms/step - loss: 0.0497 - accuracy: 0.9915\n",
            "573/573 [==============================] - 1s 2ms/step - loss: 0.0718 - accuracy: 0.9888\n",
            "573/573 [==============================] - 1s 2ms/step - loss: 0.0656 - accuracy: 0.9900\n",
            "573/573 [==============================] - 1s 2ms/step - loss: 0.0713 - accuracy: 0.9893\n",
            "573/573 [==============================] - 1s 2ms/step - loss: 0.0848 - accuracy: 0.9887\n",
            "573/573 [==============================] - 1s 2ms/step - loss: 0.0650 - accuracy: 0.9899\n",
            "573/573 [==============================] - 1s 2ms/step - loss: 0.0733 - accuracy: 0.9884\n",
            "573/573 [==============================] - 1s 2ms/step - loss: 0.0760 - accuracy: 0.9872\n",
            "573/573 [==============================] - 1s 2ms/step - loss: 2.3009 - accuracy: 0.1140\n",
            "573/573 [==============================] - 1s 2ms/step - loss: 2.3014 - accuracy: 0.1143\n",
            "573/573 [==============================] - 1s 2ms/step - loss: 2.3017 - accuracy: 0.1106\n",
            "573/573 [==============================] - 1s 2ms/step - loss: 0.0561 - accuracy: 0.9914\n",
            "573/573 [==============================] - 1s 2ms/step - loss: 0.0624 - accuracy: 0.9902\n",
            "573/573 [==============================] - 1s 2ms/step - loss: 0.0627 - accuracy: 0.9883\n",
            "573/573 [==============================] - 1s 2ms/step - loss: 0.0549 - accuracy: 0.9901\n",
            "573/573 [==============================] - 1s 2ms/step - loss: 0.0639 - accuracy: 0.9902\n",
            "573/573 [==============================] - 1s 2ms/step - loss: 0.0625 - accuracy: 0.9891\n",
            "573/573 [==============================] - 1s 2ms/step - loss: 0.0691 - accuracy: 0.9895\n",
            "573/573 [==============================] - 1s 2ms/step - loss: 0.0592 - accuracy: 0.9899\n",
            "573/573 [==============================] - 1s 2ms/step - loss: 0.0786 - accuracy: 0.9889\n",
            "573/573 [==============================] - 1s 2ms/step - loss: 0.0652 - accuracy: 0.9896\n",
            "573/573 [==============================] - 1s 2ms/step - loss: 0.0648 - accuracy: 0.9894\n",
            "573/573 [==============================] - 1s 2ms/step - loss: 0.0658 - accuracy: 0.9889\n",
            "Best: 0.990309 using {'weight_initializer': 'uniform'}\n",
            "0.990309 (0.001157) with: {'weight_initializer': 'uniform'}\n",
            "0.989309 (0.000535) with: {'weight_initializer': 'lecun_uniform'}\n",
            "0.988509 (0.001070) with: {'weight_initializer': 'normal'}\n",
            "0.112945 (0.001687) with: {'weight_initializer': 'zero'}\n",
            "0.989964 (0.001257) with: {'weight_initializer': 'glorot_normal'}\n",
            "0.989800 (0.000465) with: {'weight_initializer': 'glorot_uniform'}\n",
            "0.989436 (0.000384) with: {'weight_initializer': 'he_normal'}\n",
            "0.989309 (0.000321) with: {'weight_initializer': 'he_uniform'}\n"
          ],
          "name": "stdout"
        }
      ]
    },
    {
      "cell_type": "markdown",
      "metadata": {
        "id": "aeNpd1u72YJR"
      },
      "source": [
        "### Batch size and no. of epochs tuning"
      ]
    },
    {
      "cell_type": "code",
      "metadata": {
        "colab": {
          "base_uri": "https://localhost:8080/"
        },
        "id": "38ppaU6F2b_z",
        "outputId": "16d0a0a3-b499-4b4e-ec1a-718b572cb64b"
      },
      "source": [
        "def model_batch_size(batch_size=32, epoch=20):\n",
        "  model = Sequential([\n",
        "                    Conv2D(32, kernel_size=3, padding=\"same\", activation='relu', kernel_initializer='uniform', input_shape=X_train.shape[1:]),\n",
        "                    Conv2D(64, kernel_size=3, padding=\"same\", activation='relu', kernel_initializer='uniform'),\n",
        "                    MaxPool2D(),\n",
        "                    Flatten(),\n",
        "                    Dropout(0.25),\n",
        "                    Dense(128, activation='relu'),\n",
        "                    Dropout(0.5),\n",
        "                    Dense(10, activation=\"softmax\")                    \n",
        "                    ])\n",
        "  model.compile(loss=\"sparse_categorical_crossentropy\", optimizer='nadam',\n",
        "              metrics=[\"accuracy\"])\n",
        "  return model\n",
        "\n",
        "wrapper_batch = keras.wrappers.scikit_learn.KerasClassifier(model_batch_size)\n",
        "\n",
        "\n",
        "param_distribs = {\n",
        "             'batch_size': [16,32,64,128,256],\n",
        "             'epoch': [10, 20, 30, 40,50]\n",
        "              }\n",
        "\n",
        "batch_search_cv = GridSearchCV(wrapper_batch, param_distribs, cv=3)\n",
        "\n",
        "grid_result = batch_search_cv.fit(X_train, y_train, verbose=0)\n",
        "\n",
        "# summary results\n",
        "print(\"Best: %f using %s\" %(grid_result.best_score_, grid_result.best_params_))\n",
        "\n",
        "means = grid_result.cv_results_['mean_test_score']\n",
        "stds = grid_result.cv_results_['std_test_score']\n",
        "params = grid_result.cv_results_['params']\n",
        "for mean, stdev, param in zip(means, stds, params):\n",
        "    print(\"%f (%f) with: %r\" %(mean, stdev, param))"
      ],
      "execution_count": 23,
      "outputs": [
        {
          "output_type": "stream",
          "text": [
            "1146/1146 [==============================] - 2s 2ms/step - loss: 0.0672 - accuracy: 0.9805\n",
            "1146/1146 [==============================] - 2s 2ms/step - loss: 0.0666 - accuracy: 0.9800\n",
            "1146/1146 [==============================] - 2s 2ms/step - loss: 0.0709 - accuracy: 0.9774\n",
            "1146/1146 [==============================] - 2s 2ms/step - loss: 0.0692 - accuracy: 0.9793\n",
            "1146/1146 [==============================] - 3s 2ms/step - loss: 0.0697 - accuracy: 0.9788\n",
            "1146/1146 [==============================] - 3s 2ms/step - loss: 0.0665 - accuracy: 0.9792\n",
            "1146/1146 [==============================] - 2s 2ms/step - loss: 0.0680 - accuracy: 0.9793\n",
            "1146/1146 [==============================] - 2s 2ms/step - loss: 0.0822 - accuracy: 0.9752\n",
            "1146/1146 [==============================] - 2s 2ms/step - loss: 0.0773 - accuracy: 0.9765\n",
            "1146/1146 [==============================] - 2s 2ms/step - loss: 0.0744 - accuracy: 0.9774\n",
            "1146/1146 [==============================] - 3s 2ms/step - loss: 0.0659 - accuracy: 0.9789\n",
            "1146/1146 [==============================] - 2s 2ms/step - loss: 0.0709 - accuracy: 0.9789\n",
            "1146/1146 [==============================] - 2s 2ms/step - loss: 0.0691 - accuracy: 0.9798\n",
            "1146/1146 [==============================] - 2s 2ms/step - loss: 0.0687 - accuracy: 0.9792\n",
            "1146/1146 [==============================] - 3s 2ms/step - loss: 0.0718 - accuracy: 0.9773\n",
            "573/573 [==============================] - 1s 2ms/step - loss: 0.0784 - accuracy: 0.9764\n",
            "573/573 [==============================] - 1s 2ms/step - loss: 0.0867 - accuracy: 0.9741\n",
            "573/573 [==============================] - 1s 2ms/step - loss: 0.0786 - accuracy: 0.9761\n",
            "573/573 [==============================] - 1s 2ms/step - loss: 0.0788 - accuracy: 0.9769\n",
            "573/573 [==============================] - 1s 2ms/step - loss: 0.0739 - accuracy: 0.9788\n",
            "573/573 [==============================] - 1s 2ms/step - loss: 0.0857 - accuracy: 0.9741\n",
            "573/573 [==============================] - 1s 2ms/step - loss: 0.0812 - accuracy: 0.9752\n",
            "573/573 [==============================] - 1s 2ms/step - loss: 0.0694 - accuracy: 0.9800\n",
            "573/573 [==============================] - 1s 2ms/step - loss: 0.0788 - accuracy: 0.9761\n",
            "573/573 [==============================] - 1s 2ms/step - loss: 0.0753 - accuracy: 0.9773\n",
            "573/573 [==============================] - 1s 2ms/step - loss: 0.0797 - accuracy: 0.9755\n",
            "573/573 [==============================] - 1s 2ms/step - loss: 0.0792 - accuracy: 0.9759\n",
            "573/573 [==============================] - 1s 2ms/step - loss: 0.0772 - accuracy: 0.9779\n",
            "573/573 [==============================] - 1s 2ms/step - loss: 0.0762 - accuracy: 0.9771\n",
            "573/573 [==============================] - 1s 2ms/step - loss: 0.0719 - accuracy: 0.9782\n",
            "287/287 [==============================] - 1s 2ms/step - loss: 0.0819 - accuracy: 0.9741\n",
            "287/287 [==============================] - 1s 2ms/step - loss: 0.0734 - accuracy: 0.9785\n",
            "287/287 [==============================] - 1s 2ms/step - loss: 0.0820 - accuracy: 0.9754\n",
            "287/287 [==============================] - 1s 2ms/step - loss: 0.0875 - accuracy: 0.9731\n",
            "287/287 [==============================] - 1s 2ms/step - loss: 0.0811 - accuracy: 0.9745\n",
            "287/287 [==============================] - 1s 2ms/step - loss: 0.0877 - accuracy: 0.9727\n",
            "287/287 [==============================] - 1s 2ms/step - loss: 0.0952 - accuracy: 0.9716\n",
            "287/287 [==============================] - 1s 2ms/step - loss: 0.0775 - accuracy: 0.9764\n",
            "287/287 [==============================] - 1s 2ms/step - loss: 0.0881 - accuracy: 0.9738\n",
            "287/287 [==============================] - 1s 2ms/step - loss: 0.0836 - accuracy: 0.9753\n",
            "287/287 [==============================] - 1s 2ms/step - loss: 0.0754 - accuracy: 0.9770\n",
            "287/287 [==============================] - 1s 2ms/step - loss: 0.0897 - accuracy: 0.9739\n",
            "287/287 [==============================] - 1s 2ms/step - loss: 0.0797 - accuracy: 0.9756\n",
            "287/287 [==============================] - 1s 2ms/step - loss: 0.0822 - accuracy: 0.9756\n",
            "287/287 [==============================] - 1s 2ms/step - loss: 0.0814 - accuracy: 0.9746\n",
            "144/144 [==============================] - 1s 3ms/step - loss: 0.0902 - accuracy: 0.9731\n",
            "144/144 [==============================] - 1s 3ms/step - loss: 0.0907 - accuracy: 0.9735\n",
            "144/144 [==============================] - 1s 3ms/step - loss: 0.0996 - accuracy: 0.9710\n",
            "144/144 [==============================] - 1s 3ms/step - loss: 0.1024 - accuracy: 0.9693\n",
            "144/144 [==============================] - 1s 3ms/step - loss: 0.0924 - accuracy: 0.9722\n",
            "144/144 [==============================] - 1s 3ms/step - loss: 0.1092 - accuracy: 0.9662\n",
            "144/144 [==============================] - 1s 3ms/step - loss: 0.0889 - accuracy: 0.9721\n",
            "144/144 [==============================] - 1s 3ms/step - loss: 0.1081 - accuracy: 0.9681\n",
            "144/144 [==============================] - 1s 3ms/step - loss: 0.1036 - accuracy: 0.9678\n",
            "144/144 [==============================] - 1s 3ms/step - loss: 0.0989 - accuracy: 0.9706\n",
            "144/144 [==============================] - 1s 3ms/step - loss: 0.1190 - accuracy: 0.9639\n",
            "144/144 [==============================] - 1s 3ms/step - loss: 0.0993 - accuracy: 0.9710\n",
            "144/144 [==============================] - 1s 3ms/step - loss: 0.0999 - accuracy: 0.9703\n",
            "144/144 [==============================] - 1s 3ms/step - loss: 0.1011 - accuracy: 0.9703\n",
            "144/144 [==============================] - 1s 3ms/step - loss: 0.0955 - accuracy: 0.9696\n",
            "72/72 [==============================] - 0s 4ms/step - loss: 0.1411 - accuracy: 0.9570\n",
            "72/72 [==============================] - 0s 4ms/step - loss: 0.1197 - accuracy: 0.9636\n",
            "72/72 [==============================] - 0s 4ms/step - loss: 0.1770 - accuracy: 0.9441\n",
            "72/72 [==============================] - 0s 4ms/step - loss: 0.1239 - accuracy: 0.9638\n",
            "72/72 [==============================] - 0s 4ms/step - loss: 0.1145 - accuracy: 0.9660\n",
            "72/72 [==============================] - 0s 4ms/step - loss: 0.1431 - accuracy: 0.9549\n",
            "72/72 [==============================] - 0s 4ms/step - loss: 0.1198 - accuracy: 0.9647\n",
            "72/72 [==============================] - 0s 4ms/step - loss: 0.1646 - accuracy: 0.9504\n",
            "72/72 [==============================] - 0s 4ms/step - loss: 0.1535 - accuracy: 0.9523\n",
            "72/72 [==============================] - 0s 4ms/step - loss: 0.1195 - accuracy: 0.9643\n",
            "72/72 [==============================] - 0s 4ms/step - loss: 0.1403 - accuracy: 0.9584\n",
            "72/72 [==============================] - 0s 4ms/step - loss: 0.1618 - accuracy: 0.9499\n",
            "72/72 [==============================] - 0s 4ms/step - loss: 0.1258 - accuracy: 0.9620\n",
            "72/72 [==============================] - 0s 4ms/step - loss: 0.1472 - accuracy: 0.9575\n",
            "72/72 [==============================] - 0s 4ms/step - loss: 0.1682 - accuracy: 0.9471\n",
            "Best: 0.979291 using {'batch_size': 16, 'epoch': 10}\n",
            "0.979291 (0.001340) with: {'batch_size': 16, 'epoch': 10}\n",
            "0.979127 (0.000211) with: {'batch_size': 16, 'epoch': 20}\n",
            "0.976982 (0.001706) with: {'batch_size': 16, 'epoch': 30}\n",
            "0.978418 (0.000707) with: {'batch_size': 16, 'epoch': 40}\n",
            "0.978764 (0.001095) with: {'batch_size': 16, 'epoch': 50}\n",
            "0.975527 (0.000987) with: {'batch_size': 32, 'epoch': 10}\n",
            "0.976582 (0.001926) with: {'batch_size': 32, 'epoch': 20}\n",
            "0.977091 (0.002071) with: {'batch_size': 32, 'epoch': 30}\n",
            "0.976236 (0.000785) with: {'batch_size': 32, 'epoch': 40}\n",
            "0.977745 (0.000482) with: {'batch_size': 32, 'epoch': 50}\n",
            "0.976018 (0.001834) with: {'batch_size': 64, 'epoch': 10}\n",
            "0.973455 (0.000774) with: {'batch_size': 64, 'epoch': 20}\n",
            "0.973909 (0.001962) with: {'batch_size': 64, 'epoch': 30}\n",
            "0.975418 (0.001272) with: {'batch_size': 64, 'epoch': 40}\n",
            "0.975236 (0.000463) with: {'batch_size': 64, 'epoch': 50}\n",
            "0.972564 (0.001095) with: {'batch_size': 128, 'epoch': 10}\n",
            "0.969255 (0.002450) with: {'batch_size': 128, 'epoch': 20}\n",
            "0.969327 (0.001985) with: {'batch_size': 128, 'epoch': 30}\n",
            "0.968527 (0.003245) with: {'batch_size': 128, 'epoch': 40}\n",
            "0.970091 (0.000335) with: {'batch_size': 128, 'epoch': 50}\n",
            "0.954891 (0.008062) with: {'batch_size': 256, 'epoch': 10}\n",
            "0.961564 (0.004764) with: {'batch_size': 256, 'epoch': 20}\n",
            "0.955800 (0.006346) with: {'batch_size': 256, 'epoch': 30}\n",
            "0.957545 (0.005891) with: {'batch_size': 256, 'epoch': 40}\n",
            "0.955545 (0.006215) with: {'batch_size': 256, 'epoch': 50}\n"
          ],
          "name": "stdout"
        }
      ]
    },
    {
      "cell_type": "code",
      "metadata": {
        "colab": {
          "base_uri": "https://localhost:8080/"
        },
        "id": "4DYQzDHsL5UK",
        "outputId": "03bfb515-dc88-45d5-ee93-85836ab57d9a"
      },
      "source": [
        "keras.backend.clear_session()\n",
        "tf.random.set_seed(42)\n",
        "np.random.seed(42)\n",
        "\n",
        "model = keras.models.Sequential([\n",
        "    keras.layers.Conv2D(32, kernel_size=3, padding=\"same\", activation=\"relu\", kernel_initializer='uniform'),\n",
        "    keras.layers.Conv2D(64, kernel_size=3, padding=\"same\", activation=\"relu\", kernel_initializer='uniform'),\n",
        "    keras.layers.MaxPool2D(),\n",
        "    keras.layers.Flatten(),\n",
        "    keras.layers.Dropout(0.25),\n",
        "    keras.layers.Dense(128, activation=\"relu\"),\n",
        "    keras.layers.Dropout(0.5),\n",
        "    keras.layers.Dense(10, activation=\"softmax\")\n",
        "])\n",
        "model.compile(loss=\"sparse_categorical_crossentropy\", optimizer=\"nadam\",\n",
        "              metrics=[\"accuracy\"])\n",
        "\n",
        "history = model.fit(X_train, y_train, epochs=30, batch_size=64, validation_data=(X_valid, y_valid), verbose=1)"
      ],
      "execution_count": 14,
      "outputs": [
        {
          "output_type": "stream",
          "text": [
            "Epoch 1/30\n",
            "860/860 [==============================] - 5s 5ms/step - loss: 0.4745 - accuracy: 0.8495 - val_loss: 0.0588 - val_accuracy: 0.9854\n",
            "Epoch 2/30\n",
            "860/860 [==============================] - 4s 4ms/step - loss: 0.0945 - accuracy: 0.9704 - val_loss: 0.0502 - val_accuracy: 0.9858\n",
            "Epoch 3/30\n",
            "860/860 [==============================] - 4s 4ms/step - loss: 0.0650 - accuracy: 0.9787 - val_loss: 0.0381 - val_accuracy: 0.9906\n",
            "Epoch 4/30\n",
            "860/860 [==============================] - 4s 5ms/step - loss: 0.0548 - accuracy: 0.9830 - val_loss: 0.0382 - val_accuracy: 0.9902\n",
            "Epoch 5/30\n",
            "860/860 [==============================] - 4s 4ms/step - loss: 0.0473 - accuracy: 0.9847 - val_loss: 0.0401 - val_accuracy: 0.9900\n",
            "Epoch 6/30\n",
            "860/860 [==============================] - 4s 5ms/step - loss: 0.0415 - accuracy: 0.9862 - val_loss: 0.0366 - val_accuracy: 0.9910\n",
            "Epoch 7/30\n",
            "860/860 [==============================] - 4s 4ms/step - loss: 0.0363 - accuracy: 0.9895 - val_loss: 0.0364 - val_accuracy: 0.9920\n",
            "Epoch 8/30\n",
            "860/860 [==============================] - 4s 5ms/step - loss: 0.0368 - accuracy: 0.9889 - val_loss: 0.0377 - val_accuracy: 0.9912\n",
            "Epoch 9/30\n",
            "860/860 [==============================] - 4s 5ms/step - loss: 0.0279 - accuracy: 0.9907 - val_loss: 0.0427 - val_accuracy: 0.9920\n",
            "Epoch 10/30\n",
            "860/860 [==============================] - 4s 4ms/step - loss: 0.0274 - accuracy: 0.9906 - val_loss: 0.0372 - val_accuracy: 0.9920\n",
            "Epoch 11/30\n",
            "860/860 [==============================] - 4s 4ms/step - loss: 0.0235 - accuracy: 0.9923 - val_loss: 0.0449 - val_accuracy: 0.9898\n",
            "Epoch 12/30\n",
            "860/860 [==============================] - 4s 4ms/step - loss: 0.0222 - accuracy: 0.9923 - val_loss: 0.0413 - val_accuracy: 0.9914\n",
            "Epoch 13/30\n",
            "860/860 [==============================] - 4s 4ms/step - loss: 0.0184 - accuracy: 0.9938 - val_loss: 0.0420 - val_accuracy: 0.9920\n",
            "Epoch 14/30\n",
            "860/860 [==============================] - 4s 4ms/step - loss: 0.0182 - accuracy: 0.9941 - val_loss: 0.0376 - val_accuracy: 0.9910\n",
            "Epoch 15/30\n",
            "860/860 [==============================] - 4s 4ms/step - loss: 0.0170 - accuracy: 0.9941 - val_loss: 0.0389 - val_accuracy: 0.9916\n",
            "Epoch 16/30\n",
            "860/860 [==============================] - 4s 4ms/step - loss: 0.0187 - accuracy: 0.9938 - val_loss: 0.0396 - val_accuracy: 0.9916\n",
            "Epoch 17/30\n",
            "860/860 [==============================] - 4s 4ms/step - loss: 0.0179 - accuracy: 0.9941 - val_loss: 0.0439 - val_accuracy: 0.9920\n",
            "Epoch 18/30\n",
            "860/860 [==============================] - 4s 4ms/step - loss: 0.0158 - accuracy: 0.9949 - val_loss: 0.0449 - val_accuracy: 0.9922\n",
            "Epoch 19/30\n",
            "860/860 [==============================] - 4s 5ms/step - loss: 0.0173 - accuracy: 0.9937 - val_loss: 0.0503 - val_accuracy: 0.9912\n",
            "Epoch 20/30\n",
            "860/860 [==============================] - 4s 5ms/step - loss: 0.0133 - accuracy: 0.9952 - val_loss: 0.0422 - val_accuracy: 0.9934\n",
            "Epoch 21/30\n",
            "860/860 [==============================] - 4s 4ms/step - loss: 0.0144 - accuracy: 0.9956 - val_loss: 0.0431 - val_accuracy: 0.9920\n",
            "Epoch 22/30\n",
            "860/860 [==============================] - 4s 5ms/step - loss: 0.0145 - accuracy: 0.9950 - val_loss: 0.0460 - val_accuracy: 0.9930\n",
            "Epoch 23/30\n",
            "860/860 [==============================] - 4s 4ms/step - loss: 0.0108 - accuracy: 0.9965 - val_loss: 0.0442 - val_accuracy: 0.9934\n",
            "Epoch 24/30\n",
            "860/860 [==============================] - 4s 4ms/step - loss: 0.0113 - accuracy: 0.9964 - val_loss: 0.0533 - val_accuracy: 0.9916\n",
            "Epoch 25/30\n",
            "860/860 [==============================] - 4s 5ms/step - loss: 0.0134 - accuracy: 0.9954 - val_loss: 0.0401 - val_accuracy: 0.9934\n",
            "Epoch 26/30\n",
            "860/860 [==============================] - 4s 4ms/step - loss: 0.0112 - accuracy: 0.9966 - val_loss: 0.0479 - val_accuracy: 0.9920\n",
            "Epoch 27/30\n",
            "860/860 [==============================] - 4s 5ms/step - loss: 0.0103 - accuracy: 0.9963 - val_loss: 0.0520 - val_accuracy: 0.9924\n",
            "Epoch 28/30\n",
            "860/860 [==============================] - 4s 4ms/step - loss: 0.0110 - accuracy: 0.9964 - val_loss: 0.0516 - val_accuracy: 0.9918\n",
            "Epoch 29/30\n",
            "860/860 [==============================] - 4s 5ms/step - loss: 0.0100 - accuracy: 0.9967 - val_loss: 0.0504 - val_accuracy: 0.9928\n",
            "Epoch 30/30\n",
            "860/860 [==============================] - 4s 5ms/step - loss: 0.0116 - accuracy: 0.9959 - val_loss: 0.0455 - val_accuracy: 0.9934\n"
          ],
          "name": "stdout"
        }
      ]
    },
    {
      "cell_type": "code",
      "metadata": {
        "colab": {
          "base_uri": "https://localhost:8080/"
        },
        "id": "DHp41grlM3dU",
        "outputId": "0c8213d5-a781-433c-8bd0-823f638ad161"
      },
      "source": [
        "model.evaluate(X_test, y_test)"
      ],
      "execution_count": 15,
      "outputs": [
        {
          "output_type": "stream",
          "text": [
            "313/313 [==============================] - 1s 2ms/step - loss: 0.0318 - accuracy: 0.9937\n"
          ],
          "name": "stdout"
        },
        {
          "output_type": "execute_result",
          "data": {
            "text/plain": [
              "[0.03178718313574791, 0.9937000274658203]"
            ]
          },
          "metadata": {
            "tags": []
          },
          "execution_count": 15
        }
      ]
    }
  ]
}